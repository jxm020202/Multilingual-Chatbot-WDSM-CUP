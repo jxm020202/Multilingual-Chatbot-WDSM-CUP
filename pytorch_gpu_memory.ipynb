{
  "nbformat": 4,
  "nbformat_minor": 0,
  "metadata": {
    "colab": {
      "provenance": [],
      "include_colab_link": true
    },
    "kernelspec": {
      "name": "python3",
      "display_name": "Python 3"
    },
    "language_info": {
      "name": "python"
    },
    "accelerator": "GPU"
  },
  "cells": [
    {
      "cell_type": "markdown",
      "metadata": {
        "id": "view-in-github",
        "colab_type": "text"
      },
      "source": [
        "<a href=\"https://colab.research.google.com/github/jxm020202/Multilingual-Chatbot-WDSM-CUP/blob/main/pytorch_gpu_memory.ipynb\" target=\"_parent\"><img src=\"https://colab.research.google.com/assets/colab-badge.svg\" alt=\"Open In Colab\"/></a>"
      ]
    },
    {
      "cell_type": "code",
      "metadata": {
        "colab": {
          "base_uri": "https://localhost:8080/"
        },
        "id": "7xFjCVN0x9NK",
        "outputId": "f5ca0d0f-a210-4083-a986-a88e41674bcb"
      },
      "source": [
        "!pip install GPUtil"
      ],
      "execution_count": null,
      "outputs": [
        {
          "output_type": "stream",
          "text": [
            "Collecting GPUtil\n",
            "  Downloading https://files.pythonhosted.org/packages/ed/0e/5c61eedde9f6c87713e89d794f01e378cfd9565847d4576fa627d758c554/GPUtil-1.4.0.tar.gz\n",
            "Building wheels for collected packages: GPUtil\n",
            "  Building wheel for GPUtil (setup.py) ... \u001b[?25l\u001b[?25hdone\n",
            "  Created wheel for GPUtil: filename=GPUtil-1.4.0-cp37-none-any.whl size=7411 sha256=e18f351c5e635cf14ff937f8eb7154bc342c2a1ab9c9bb1719dd3a41ce2b81b5\n",
            "  Stored in directory: /root/.cache/pip/wheels/3d/77/07/80562de4bb0786e5ea186911a2c831fdd0018bda69beab71fd\n",
            "Successfully built GPUtil\n",
            "Installing collected packages: GPUtil\n",
            "Successfully installed GPUtil-1.4.0\n"
          ],
          "name": "stdout"
        }
      ]
    },
    {
      "cell_type": "code",
      "metadata": {
        "colab": {
          "base_uri": "https://localhost:8080/"
        },
        "id": "F5HtyWqZx_d1",
        "outputId": "13f0309b-0902-4b08-b578-a02683f18a55"
      },
      "source": [
        "import gc\n",
        "from GPUtil import showUtilization as gpu_usage\n",
        "import torch\n",
        "\n",
        "# We start with a fresh, empty GPU memory\n",
        "print(gpu_usage())\n",
        "\n",
        "# Create a tensor and move it to the GPU\n",
        "a = torch.rand(1000,1000,1000)\n",
        "a.to('cuda')\n",
        "print(gpu_usage())\n",
        "\n",
        "# Move the tensor back to the CPU, I'd expect GPU memory to get back to zero but it does not\n",
        "a.to('cpu')\n",
        "torch.cuda.empty_cache()\n",
        "print(gpu_usage())\n",
        "\n",
        "# Delete the tensor reference, GPU memory still does not go back to zero\n",
        "del a\n",
        "gc.collect()\n",
        "torch.cuda.empty_cache()\n",
        "print(gpu_usage())"
      ],
      "execution_count": null,
      "outputs": [
        {
          "output_type": "stream",
          "text": [
            "| ID | GPU | MEM |\n",
            "------------------\n",
            "|  0 |  0% |  0% |\n",
            "None\n",
            "| ID | GPU | MEM |\n",
            "------------------\n",
            "|  0 | 25% | 37% |\n",
            "None\n",
            "| ID | GPU | MEM |\n",
            "------------------\n",
            "|  0 | 25% |  4% |\n",
            "None\n",
            "| ID | GPU  | MEM |\n",
            "-------------------\n",
            "|  0 | 100% |  4% |\n",
            "None\n"
          ],
          "name": "stdout"
        }
      ]
    },
    {
      "cell_type": "code",
      "metadata": {
        "colab": {
          "base_uri": "https://localhost:8080/"
        },
        "id": "V07roy8T0hGu",
        "outputId": "fd68308d-4525-4104-e4ba-b483d1967721"
      },
      "source": [
        "print(gpu_usage())"
      ],
      "execution_count": null,
      "outputs": [
        {
          "output_type": "stream",
          "text": [
            "| ID | GPU | MEM |\n",
            "------------------\n",
            "|  0 |  0% |  4% |\n",
            "None\n"
          ],
          "name": "stdout"
        }
      ]
    },
    {
      "cell_type": "code",
      "metadata": {
        "colab": {
          "base_uri": "https://localhost:8080/"
        },
        "id": "VCZWcyXIyB2N",
        "outputId": "574dbff9-9ff4-4fcd-b558-29a657c3ca1c"
      },
      "source": [
        "# Double check memory usage with nvidia-smi\n",
        "!nvidia-smi"
      ],
      "execution_count": null,
      "outputs": [
        {
          "output_type": "stream",
          "text": [
            "Thu Jul  8 06:32:52 2021       \n",
            "+-----------------------------------------------------------------------------+\n",
            "| NVIDIA-SMI 470.42.01    Driver Version: 460.32.03    CUDA Version: 11.2     |\n",
            "|-------------------------------+----------------------+----------------------+\n",
            "| GPU  Name        Persistence-M| Bus-Id        Disp.A | Volatile Uncorr. ECC |\n",
            "| Fan  Temp  Perf  Pwr:Usage/Cap|         Memory-Usage | GPU-Util  Compute M. |\n",
            "|                               |                      |               MIG M. |\n",
            "|===============================+======================+======================|\n",
            "|   0  Tesla K80           Off  | 00000000:00:04.0 Off |                    0 |\n",
            "| N/A   61C    P0    85W / 149W |    446MiB / 11441MiB |     20%      Default |\n",
            "|                               |                      |                  N/A |\n",
            "+-------------------------------+----------------------+----------------------+\n",
            "                                                                               \n",
            "+-----------------------------------------------------------------------------+\n",
            "| Processes:                                                                  |\n",
            "|  GPU   GI   CI        PID   Type   Process name                  GPU Memory |\n",
            "|        ID   ID                                                   Usage      |\n",
            "|=============================================================================|\n",
            "|  No running processes found                                                 |\n",
            "+-----------------------------------------------------------------------------+\n"
          ],
          "name": "stdout"
        }
      ]
    },
    {
      "cell_type": "code",
      "metadata": {
        "id": "4ryfb5ShzYwg"
      },
      "source": [],
      "execution_count": null,
      "outputs": []
    }
  ]
}